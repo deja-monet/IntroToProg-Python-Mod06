{
 "cells": [
  {
   "cell_type": "code",
   "execution_count": 1,
   "metadata": {},
   "outputs": [],
   "source": [
    "# ---------------------------------------------------------------------------- #\n",
    "# Title: Assignment 06\n",
    "# Description: Working with functions in a class,\n",
    "#              When the program starts, load each \"row\" of data\n",
    "#              in \"ToDoToDoList.txt\" into a python Dictionary.\n",
    "#              Add the each dictionary \"row\" to a python list \"table\"\n",
    "# ChangeLog (Who,When,What):\n",
    "# RRoot,1.1.2030,Created started script\n",
    "# dejam,220816,Modified code to complete assignment 06\n",
    "# ---------------------------------------------------------------------------- #"
   ]
  },
  {
   "cell_type": "code",
   "execution_count": 2,
   "metadata": {},
   "outputs": [],
   "source": [
    "# Data ---------------------------------------------------------------------- #\n",
    "#import libraries and modules\n",
    "import jdc #for use in Jupyter Lab: jupyter dynamic classes (jdc) module allows functions in a class to be spread across cells\n",
    "from os.path import exists\n",
    "\n",
    "# Declare variables and constants\n",
    "file_name_str = \"ToDoFile.txt\"  # The name of the data file\n",
    "file_obj = None  # An object that represents a file\n",
    "row_dic = {}  # A row of data separated into elements of a dictionary {Task,Priority}\n",
    "table_lst = []  # A list that acts as a 'table' of rows\n",
    "choice_str = \"\"  # Captures the user option selection"
   ]
  },
  {
   "cell_type": "code",
   "execution_count": 3,
   "metadata": {},
   "outputs": [],
   "source": [
    "# Processing  --------------------------------------------------------------- #\n",
    "class Processor():\n",
    "    \"\"\"Performs Processing tasks\"\"\""
   ]
  },
  {
   "cell_type": "code",
   "execution_count": 4,
   "metadata": {},
   "outputs": [],
   "source": [
    "    %%add_to Processor\n",
    "    @staticmethod\n",
    "    def read_data_from_file(file_name, list_of_rows):\n",
    "        \"\"\" \n",
    "        Reads data from a file into a list of dictionary rows\n",
    "        \n",
    "        :param file_name: (string) with name of file:\n",
    "        :param list_of_rows: (list) you want filled with file data:\n",
    "        :return: (list) of dictionary rows\n",
    "        \"\"\"\n",
    "        \n",
    "        #check if file exists\n",
    "        file_exists = exists(file_name)\n",
    "        \n",
    "        #if file exists, load data\n",
    "        if(file_exists == True):\n",
    "            list_of_rows.clear()  #clear current data\n",
    "            file = open(file_name, \"r\")\n",
    "            for line in file:\n",
    "                task, priority = line.split(\",\")\n",
    "                row = {\"Task\": task.strip(), \"Priority\": priority.strip()}\n",
    "                list_of_rows.append(row)\n",
    "            file.close()\n",
    "            print(\"Data loaded from file!\")\n",
    "            return list_of_rows\n",
    "        \n",
    "        #if file does not exist, alert user and return to main menu\n",
    "        else:\n",
    "            print(\"No data to load from file!\")  "
   ]
  },
  {
   "cell_type": "code",
   "execution_count": 5,
   "metadata": {},
   "outputs": [],
   "source": [
    "    %%add_to Processor\n",
    "    @staticmethod\n",
    "    def add_data_to_list(task, priority, list_of_rows):\n",
    "        \"\"\" \n",
    "        Adds data to a list of dictionary rows\n",
    "\n",
    "        :param task: (string) with name of task:\n",
    "        :param priority: (string) with name of priority:\n",
    "        :param list_of_rows: (list) you want filled with file data:\n",
    "        :return: (list) of dictionary rows\n",
    "        \"\"\"\n",
    "        \n",
    "        #add user input items to dictionary row\n",
    "        row = {\"Task\": str(task).strip(), \"Priority\": str(priority).strip()}\n",
    "        \n",
    "        #add dictionary row to python list/table\n",
    "        list_of_rows.append(row)\n",
    "\n",
    "        return list_of_rows"
   ]
  },
  {
   "cell_type": "code",
   "execution_count": 6,
   "metadata": {},
   "outputs": [],
   "source": [
    "    %%add_to Processor\n",
    "    @staticmethod\n",
    "    def remove_data_from_list(task, list_of_rows):\n",
    "        \"\"\" \n",
    "        Removes data from a list of dictionary rows\n",
    "        \n",
    "        :param task: (string) with name of task:\n",
    "        :param list_of_rows: (list) you want filled with file data:\n",
    "        :return: (list) of dictionary rows\n",
    "        \"\"\"\n",
    "        \n",
    "        #cycle through entries in list_of_rows until the user input item \n",
    "        #matches an item in the list of dictionary rows\n",
    "        list_of_rows_position = 0\n",
    "        for row in list_of_rows:\n",
    "            #if user input item is found on the to-do list, it is removed from the to-do list\n",
    "            if(row[\"Task\"].lower() == task.lower()):   \n",
    "                #removes user input item from list\n",
    "                del list_of_rows[list_of_rows_position]\n",
    "\n",
    "                #alert user the item was removed from the list and return to main menu\n",
    "                print(task + \" has been removed from the to-do list.\")\n",
    "                break\n",
    "\n",
    "            #if the list has been cycled through, and the user input item is not \n",
    "            #the last item on the list: alert user the item was not found and return to main menu\n",
    "            if(str(list_of_rows_position) == str(len(list_of_rows)-1) and row[\"Task\"].lower() != task.lower()):\n",
    "                print(task + \" was not found on the to-do list!\")\n",
    "                break\n",
    "\n",
    "            #if user input item has not been found, but there are more items on the list,\n",
    "            #then continue to cycle through the list\n",
    "            else:\n",
    "                list_of_rows_position = list_of_rows_position+1 \n",
    "        \n",
    "        return list_of_rows"
   ]
  },
  {
   "cell_type": "code",
   "execution_count": 7,
   "metadata": {},
   "outputs": [],
   "source": [
    "    %%add_to Processor\n",
    "    @staticmethod\n",
    "    def write_data_to_file(file_name, list_of_rows):\n",
    "        \"\"\"\n",
    "        Writes data from a list of dictionary rows to a File\n",
    "\n",
    "        :param file_name: (string) with name of file:\n",
    "        :param list_of_rows: (list) you want filled with file data:\n",
    "        :return: (list) of dictionary rows\n",
    "        \"\"\"\n",
    "        \n",
    "        #ToDoFile.txt is identified as file_obj\n",
    "        file_obj = open(file_name_str, \"w\")\n",
    "        \n",
    "        #write user input to-do items to ToDoFile.txt\n",
    "        for row in list_of_rows:\n",
    "            file_obj.write(row[\"Task\"] + \",\" + row[\"Priority\"] + \"\\n\")\n",
    "        \n",
    "        #ToDoFile.txt is closed\n",
    "        file_obj.close()\n",
    "        \n",
    "        #user is alerted that their data has successfully been saved\n",
    "        print(\"Data has been saved!\")\n",
    "        \n",
    "        return list_of_rows"
   ]
  },
  {
   "cell_type": "code",
   "execution_count": 8,
   "metadata": {},
   "outputs": [],
   "source": [
    "# Presentation (Input/Output)  -------------------------------------------- #\n",
    "class IO():\n",
    "    \"\"\" Performs Input and Output tasks \"\"\""
   ]
  },
  {
   "cell_type": "code",
   "execution_count": 9,
   "metadata": {},
   "outputs": [],
   "source": [
    "    %%add_to IO\n",
    "    #COMPLETE\n",
    "    @staticmethod\n",
    "    def output_menu_tasks():\n",
    "        \"\"\"  \n",
    "        Display a menu of choices to the user\n",
    "        \n",
    "        :return: nothing\n",
    "        \"\"\"\n",
    "        \n",
    "        print(\"\"\"\n",
    "        Menu of Options\n",
    "        1) Add a new Task\n",
    "        2) Remove an existing Task\n",
    "        3) Save Data to File        \n",
    "        4) Exit Program\n",
    "        \"\"\")\n",
    "        print()  # Add an extra line for looks"
   ]
  },
  {
   "cell_type": "code",
   "execution_count": 10,
   "metadata": {},
   "outputs": [],
   "source": [
    "    %%add_to IO\n",
    "    #COMPLETE\n",
    "    @staticmethod\n",
    "    def input_menu_choice():\n",
    "        \"\"\" \n",
    "        Gets the menu choice from a user\n",
    "        \n",
    "        :return: string\n",
    "        \"\"\"\n",
    "        choice = str(input(\"Which option would you like to perform? [1 to 4]: \")).strip()\n",
    "        print()  # Add an extra line for looks\n",
    "        return choice"
   ]
  },
  {
   "cell_type": "code",
   "execution_count": 11,
   "metadata": {},
   "outputs": [],
   "source": [
    "    %%add_to IO\n",
    "    #COMPLETE\n",
    "    @staticmethod\n",
    "    def output_current_tasks_in_list(list_of_rows):\n",
    "        \"\"\" \n",
    "        Shows the current Tasks in the list of dictionaries rows\n",
    "        \n",
    "        :param list_of_rows: (list) of rows you want to display\n",
    "        :return: nothing\n",
    "        \"\"\"\n",
    "        \n",
    "        print(\"Here is your current to-do list: \")\n",
    "        for row in list_of_rows:\n",
    "            print(row[\"Task\"] + \" (\" + row[\"Priority\"] + \")\")\n",
    "        print()  # Add an extra line for looks"
   ]
  },
  {
   "cell_type": "code",
   "execution_count": 12,
   "metadata": {},
   "outputs": [],
   "source": [
    "    %%add_to IO\n",
    "    @staticmethod\n",
    "    def input_new_task_and_priority():\n",
    "        \"\"\"  \n",
    "        Gets task and priority values to be added to the list\n",
    "        \n",
    "        return: (string, string) with task and priority\n",
    "        \"\"\"\n",
    "    \n",
    "        #task: (string) with name of task:\n",
    "        task = input(\"Enter a Task for the to-do list: \")\n",
    "        \n",
    "        #priority: (string) with name of priority:\n",
    "        priority = input(\"Enter the Priority of this Task: \")\n",
    "        \n",
    "        #return user input task and priority\n",
    "        return task, priority"
   ]
  },
  {
   "cell_type": "code",
   "execution_count": 13,
   "metadata": {},
   "outputs": [],
   "source": [
    "    %%add_to IO\n",
    "    @staticmethod\n",
    "    def input_task_to_remove():\n",
    "        \"\"\"  \n",
    "        Gets the task name to be removed from the list\n",
    "        \n",
    "        :return: (string) with task\n",
    "        \"\"\"\n",
    "        \n",
    "        #identify item to remove from to-do list\n",
    "        str_task_remove = input(\"Which task do you want to remove from the to-do list? \")\n",
    "        \n",
    "        return str_task_remove"
   ]
  },
  {
   "cell_type": "code",
   "execution_count": 16,
   "metadata": {},
   "outputs": [
    {
     "name": "stdout",
     "output_type": "stream",
     "text": [
      "Data loaded from file!\n",
      "Here is your current to-do list: \n",
      "grocery shopping (1)\n",
      "vacuum (2)\n",
      "\n",
      "\n",
      "    Menu of Options\n",
      "    1) Add a new Task\n",
      "    2) Remove an existing Task\n",
      "    3) Save Data to File        \n",
      "    4) Exit Program\n",
      "    \n",
      "\n"
     ]
    },
    {
     "name": "stdin",
     "output_type": "stream",
     "text": [
      "Which option would you like to perform? [1 to 4]:  2\n"
     ]
    },
    {
     "name": "stdout",
     "output_type": "stream",
     "text": [
      "\n"
     ]
    },
    {
     "name": "stdin",
     "output_type": "stream",
     "text": [
      "Which task do you want to remove from the to-do list?  buy socks\n"
     ]
    },
    {
     "name": "stdout",
     "output_type": "stream",
     "text": [
      "buy socks was not found on the to-do list!\n",
      "Here is your current to-do list: \n",
      "grocery shopping (1)\n",
      "vacuum (2)\n",
      "\n",
      "\n",
      "    Menu of Options\n",
      "    1) Add a new Task\n",
      "    2) Remove an existing Task\n",
      "    3) Save Data to File        \n",
      "    4) Exit Program\n",
      "    \n",
      "\n"
     ]
    },
    {
     "ename": "KeyboardInterrupt",
     "evalue": "Interrupted by user",
     "output_type": "error",
     "traceback": [
      "\u001b[1;31m---------------------------------------------------------------------------\u001b[0m",
      "\u001b[1;31mKeyboardInterrupt\u001b[0m                         Traceback (most recent call last)",
      "\u001b[1;32m~\\AppData\\Local\\Temp\\ipykernel_25688\\1427837620.py\u001b[0m in \u001b[0;36m<module>\u001b[1;34m\u001b[0m\n\u001b[0;32m     12\u001b[0m     \u001b[1;31m#shows main menu to user, returns user's choice from main menu\u001b[0m\u001b[1;33m\u001b[0m\u001b[1;33m\u001b[0m\u001b[0m\n\u001b[0;32m     13\u001b[0m     \u001b[0mIO\u001b[0m\u001b[1;33m.\u001b[0m\u001b[0moutput_menu_tasks\u001b[0m\u001b[1;33m(\u001b[0m\u001b[1;33m)\u001b[0m\u001b[1;33m\u001b[0m\u001b[1;33m\u001b[0m\u001b[0m\n\u001b[1;32m---> 14\u001b[1;33m     \u001b[0mchoice_str\u001b[0m \u001b[1;33m=\u001b[0m \u001b[0mIO\u001b[0m\u001b[1;33m.\u001b[0m\u001b[0minput_menu_choice\u001b[0m\u001b[1;33m(\u001b[0m\u001b[1;33m)\u001b[0m\u001b[1;33m\u001b[0m\u001b[1;33m\u001b[0m\u001b[0m\n\u001b[0m\u001b[0;32m     15\u001b[0m \u001b[1;33m\u001b[0m\u001b[0m\n\u001b[0;32m     16\u001b[0m     \u001b[1;34m\"\"\"Step 4: Process user's menu choice\"\"\"\u001b[0m\u001b[1;33m\u001b[0m\u001b[1;33m\u001b[0m\u001b[0m\n",
      "\u001b[1;32m<string>\u001b[0m in \u001b[0;36minput_menu_choice\u001b[1;34m()\u001b[0m\n",
      "\u001b[1;32m~\\anaconda3\\lib\\site-packages\\ipykernel\\kernelbase.py\u001b[0m in \u001b[0;36mraw_input\u001b[1;34m(self, prompt)\u001b[0m\n\u001b[0;32m   1073\u001b[0m                 \u001b[1;34m\"raw_input was called, but this frontend does not support input requests.\"\u001b[0m\u001b[1;33m\u001b[0m\u001b[1;33m\u001b[0m\u001b[0m\n\u001b[0;32m   1074\u001b[0m             )\n\u001b[1;32m-> 1075\u001b[1;33m         return self._input_request(\n\u001b[0m\u001b[0;32m   1076\u001b[0m             \u001b[0mstr\u001b[0m\u001b[1;33m(\u001b[0m\u001b[0mprompt\u001b[0m\u001b[1;33m)\u001b[0m\u001b[1;33m,\u001b[0m\u001b[1;33m\u001b[0m\u001b[1;33m\u001b[0m\u001b[0m\n\u001b[0;32m   1077\u001b[0m             \u001b[0mself\u001b[0m\u001b[1;33m.\u001b[0m\u001b[0m_parent_ident\u001b[0m\u001b[1;33m[\u001b[0m\u001b[1;34m\"shell\"\u001b[0m\u001b[1;33m]\u001b[0m\u001b[1;33m,\u001b[0m\u001b[1;33m\u001b[0m\u001b[1;33m\u001b[0m\u001b[0m\n",
      "\u001b[1;32m~\\anaconda3\\lib\\site-packages\\ipykernel\\kernelbase.py\u001b[0m in \u001b[0;36m_input_request\u001b[1;34m(self, prompt, ident, parent, password)\u001b[0m\n\u001b[0;32m   1118\u001b[0m             \u001b[1;32mexcept\u001b[0m \u001b[0mKeyboardInterrupt\u001b[0m\u001b[1;33m:\u001b[0m\u001b[1;33m\u001b[0m\u001b[1;33m\u001b[0m\u001b[0m\n\u001b[0;32m   1119\u001b[0m                 \u001b[1;31m# re-raise KeyboardInterrupt, to truncate traceback\u001b[0m\u001b[1;33m\u001b[0m\u001b[1;33m\u001b[0m\u001b[0m\n\u001b[1;32m-> 1120\u001b[1;33m                 \u001b[1;32mraise\u001b[0m \u001b[0mKeyboardInterrupt\u001b[0m\u001b[1;33m(\u001b[0m\u001b[1;34m\"Interrupted by user\"\u001b[0m\u001b[1;33m)\u001b[0m \u001b[1;32mfrom\u001b[0m \u001b[1;32mNone\u001b[0m\u001b[1;33m\u001b[0m\u001b[1;33m\u001b[0m\u001b[0m\n\u001b[0m\u001b[0;32m   1121\u001b[0m             \u001b[1;32mexcept\u001b[0m \u001b[0mException\u001b[0m\u001b[1;33m:\u001b[0m\u001b[1;33m\u001b[0m\u001b[1;33m\u001b[0m\u001b[0m\n\u001b[0;32m   1122\u001b[0m                 \u001b[0mself\u001b[0m\u001b[1;33m.\u001b[0m\u001b[0mlog\u001b[0m\u001b[1;33m.\u001b[0m\u001b[0mwarning\u001b[0m\u001b[1;33m(\u001b[0m\u001b[1;34m\"Invalid Message:\"\u001b[0m\u001b[1;33m,\u001b[0m \u001b[0mexc_info\u001b[0m\u001b[1;33m=\u001b[0m\u001b[1;32mTrue\u001b[0m\u001b[1;33m)\u001b[0m\u001b[1;33m\u001b[0m\u001b[1;33m\u001b[0m\u001b[0m\n",
      "\u001b[1;31mKeyboardInterrupt\u001b[0m: Interrupted by user"
     ]
    }
   ],
   "source": [
    "### Main Body of Script  ------------------------------------------------------ #\n",
    "\"\"\"Step 1: When the program starts, load data from ToDoFile.txt\"\"\"\n",
    "Processor.read_data_from_file(file_name=file_name_str, list_of_rows=table_lst)  # read data from file\n",
    "\n",
    "\"\"\"Step 2: Display a menu of choices to the user\"\"\"\n",
    "while (True):\n",
    "    \"\"\"Step 3: show current data\"\"\"\n",
    "    #shows current data in the to-do list if there are items in the to-do list\n",
    "    if(table_lst != []):\n",
    "        IO.output_current_tasks_in_list(list_of_rows=table_lst)\n",
    "        \n",
    "    #shows main menu to user, returns user's choice from main menu\n",
    "    IO.output_menu_tasks()\n",
    "    choice_str = IO.input_menu_choice()\n",
    "    \n",
    "    \"\"\"Step 4: Process user's menu choice\"\"\"\n",
    "    #add a new Task to the to-do list\n",
    "    if(choice_str.strip() == '1'):\n",
    "        task, priority = IO.input_new_task_and_priority()\n",
    "        table_lst = Processor.add_data_to_list(task=task, priority=priority, list_of_rows=table_lst)\n",
    "        continue #return to main menu\n",
    "        \n",
    "    #remove an existing Task from the to-do list\n",
    "    elif(choice_str == '2'):\n",
    "        #if the to-do list is empty, alert the user and return to main menu\n",
    "        if(table_lst == []):\n",
    "            print(\"There are no tasks on the to-do list! Please choose a different option:\")\n",
    "        \n",
    "        #if there are tasks on the to-do list, allow the user to remove a task from the to-do list\n",
    "        else:\n",
    "            task = IO.input_task_to_remove()\n",
    "            table_lst = Processor.remove_data_from_list(task=task, list_of_rows=table_lst)\n",
    "        continue #return to main menu\n",
    "     \n",
    "    #save data to file\n",
    "    elif(choice_str == '3'):\n",
    "        table_lst = Processor.write_data_to_file(file_name=file_name_str, list_of_rows=table_lst)\n",
    "        continue #return to main menu\n",
    "     \n",
    "    #exit script\n",
    "    elif(choice_str == '4'):\n",
    "        print(\"Goodbye!\")\n",
    "        break #break loop to exit script"
   ]
  },
  {
   "cell_type": "code",
   "execution_count": null,
   "metadata": {},
   "outputs": [],
   "source": []
  }
 ],
 "metadata": {
  "kernelspec": {
   "display_name": "Python 3 (ipykernel)",
   "language": "python",
   "name": "python3"
  },
  "language_info": {
   "codemirror_mode": {
    "name": "ipython",
    "version": 3
   },
   "file_extension": ".py",
   "mimetype": "text/x-python",
   "name": "python",
   "nbconvert_exporter": "python",
   "pygments_lexer": "ipython3",
   "version": "3.9.12"
  }
 },
 "nbformat": 4,
 "nbformat_minor": 4
}
